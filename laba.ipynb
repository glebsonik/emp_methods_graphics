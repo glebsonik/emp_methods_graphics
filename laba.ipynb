{
 "cells": [
  {
   "cell_type": "code",
   "execution_count": null,
   "metadata": {},
   "outputs": [],
   "source": [
    "import math as math\n",
    "import matplotlib.pyplot as plt\n",
    "from prettytable import PrettyTable\n",
    "from scipy.stats import chi2\n",
    "import scipy\n",
    "from IPython.display import HTML, display\n",
    "import tabulate"
   ]
  },
  {
   "cell_type": "markdown",
   "metadata": {},
   "source": [
    "Функций подсчета элементов в указанном промежутке"
   ]
  },
  {
   "cell_type": "code",
   "execution_count": null,
   "metadata": {},
   "outputs": [],
   "source": [
    "# [start, end)\n",
    "def elementInRange(elements, start, end):\n",
    "    count = 0\n",
    "    for el in elements:\n",
    "        if (el >= start) and (el < end):\n",
    "            count += 1\n",
    "    return count"
   ]
  },
  {
   "cell_type": "markdown",
   "metadata": {},
   "source": [
    "Функций создания интервальных рядов"
   ]
  },
  {
   "cell_type": "code",
   "execution_count": null,
   "metadata": {},
   "outputs": [],
   "source": [
    "def makeIntervals(samples, start, delt, count):\n",
    "    samples.sort()\n",
    "    intervals = []\n",
    "    for i in range(1, count + 1):\n",
    "        currentStart = start + (i - 1) * delt\n",
    "        currentEnd = start + i * delt\n",
    "        intervals.append([(currentStart + currentEnd) / 2,\n",
    "                          elementInRange(samples, currentStart, currentEnd),\n",
    "                          (currentStart, currentEnd)])\n",
    "    intervals[-1][1] += 1\n",
    "    return intervals"
   ]
  },
  {
   "cell_type": "markdown",
   "metadata": {},
   "source": [
    "Создадим выборки"
   ]
  },
  {
   "cell_type": "code",
   "execution_count": null,
   "metadata": {},
   "outputs": [],
   "source": [
    "def next_element(previous, mu): #функция подсчета следующего x\n",
    "    return previous * mu - int(previous * mu)"
   ]
  },
  {
   "cell_type": "code",
   "execution_count": null,
   "metadata": {},
   "outputs": [],
   "source": [
    "size = 100\n",
    "m = 2347 #простое число\n",
    "uniform_selection = [0.99]\n",
    "for element in range(1, size):\n",
    "    uniform_selection.append(next_element(uniform_selection[element - 1], m))  "
   ]
  },
  {
   "cell_type": "markdown",
   "metadata": {},
   "source": [
    "Экспоненциальное распределение"
   ]
  },
  {
   "cell_type": "code",
   "execution_count": null,
   "metadata": {},
   "outputs": [],
   "source": [
    "lambda_parameter = 10\n",
    "exponential_selection = []\n",
    "for element in range(size):\n",
    "    exponential_selection.append(-(1/lambda_parameter)*math.log(1-uniform_selection[element]))"
   ]
  },
  {
   "cell_type": "code",
   "execution_count": null,
   "metadata": {},
   "outputs": [],
   "source": [
    "plt.hist(exponential_selection, 50, color='r')\n",
    "plt.show() "
   ]
  },
  {
   "cell_type": "code",
   "execution_count": null,
   "metadata": {},
   "outputs": [],
   "source": [
    "exponential_selection.sort()\n",
    "exp_range = exponential_selection[-1] - exponential_selection[0]\n",
    "print(\"Размах: \", exp_range)"
   ]
  },
  {
   "cell_type": "code",
   "execution_count": null,
   "metadata": {},
   "outputs": [],
   "source": [
    "number_intervals = 5"
   ]
  },
  {
   "cell_type": "code",
   "execution_count": null,
   "metadata": {},
   "outputs": [],
   "source": [
    "exp_delta = exp_range / number_intervals\n",
    "print(\"Delta = \", exp_delta)"
   ]
  },
  {
   "cell_type": "code",
   "execution_count": null,
   "metadata": {},
   "outputs": [],
   "source": [
    "exp_intervals = makeIntervals(exponential_selection, exponential_selection[0], exp_delta, number_intervals)\n",
    "exp_tuples = []\n",
    "exp_avg = []\n",
    "exp_count = []\n",
    "for interval in exp_intervals:\n",
    "    exp_avg.append(interval[0])\n",
    "    exp_count.append(interval[1])\n",
    "    exp_tuples.append(interval[2])"
   ]
  },
  {
   "cell_type": "code",
   "execution_count": null,
   "metadata": {},
   "outputs": [],
   "source": [
    "table = []\n",
    "table.append([exp_tuples, exp_avg, exp_count])\n",
    "display(HTML(tabulate.tabulate({\"Интервал\": exp_tuples, \"Количество элементов\":exp_count, \"Среднее значение в интервале\": exp_avg}, tablefmt='html', headers=\"keys\")))"
   ]
  },
  {
   "cell_type": "code",
   "execution_count": null,
   "metadata": {},
   "outputs": [],
   "source": [
    "exp_hash = {\"niui\": [],\n",
    "         \"niui_2\": []}\n",
    "false_zero = exponential_selection[49]\n",
    "local_estim_table_exp = PrettyTable([\"Ji\", \"xi*\", \"ni\", \"ui\", \"ni*ui\", \"ni*ui^2\", \"ni(ui + 1)^2\"])\n",
    "for interval in exp_intervals:\n",
    "    ui = (interval[0] - false_zero) / exp_delta\n",
    "    ni_ui = interval[1] * ui\n",
    "    ni_ui_sqr = interval[1] * (ui * ui)\n",
    "    control = interval[1] * pow((ui + 1), 2)\n",
    "    exp_hash[\"niui\"].append(ni_ui)\n",
    "    exp_hash[\"niui_2\"].append(ni_ui_sqr) \n",
    "    local_estim_table_exp.add_row([interval[2], interval[0], interval[1], ui, ni_ui, ni_ui_sqr, control])"
   ]
  },
  {
   "cell_type": "code",
   "execution_count": null,
   "metadata": {},
   "outputs": [],
   "source": [
    "display(HTML(local_estim_table_exp.get_html_string()))"
   ]
  },
  {
   "cell_type": "code",
   "execution_count": null,
   "metadata": {},
   "outputs": [],
   "source": [
    "exp_moment1 = sum(exp_hash[\"niui\"]) / size\n",
    "exp_moment2 = sum(exp_hash[\"niui_2\"]) / size\n",
    "\n",
    "average_chosen = exp_delta * exp_moment1 + false_zero\n",
    "chosen_dispersion = (exp_moment2 - pow(exp_moment1, 2)) * pow(exp_delta, 2)\n",
    "\n",
    "# Local points estimation\n",
    "est_lambda = 1 / average_chosen\n",
    "est_lambda_sqr = 1 / chosen_dispersion"
   ]
  },
  {
   "cell_type": "code",
   "execution_count": null,
   "metadata": {},
   "outputs": [],
   "source": [
    "print(\"Среднее выборочное: \", average_chosen, \"\\nЛямбда (ескп. закон): \", est_lambda,\n",
    "      \"\\nЛямбда квадрат: \", est_lambda_sqr)"
   ]
  },
  {
   "cell_type": "code",
   "execution_count": null,
   "metadata": {},
   "outputs": [],
   "source": [
    "alpha_chi_coef = 0.05\n",
    "x_alpha = chi2.ppf(alpha_chi_coef, size * 2)\n",
    "x_beta = chi2.ppf(1 - alpha_chi_coef, size * 2)\n",
    "gamma = 1 - alpha_chi_coef * 2  # alpha == beta\n",
    "lambda_start = x_alpha / (2 * size * average_chosen)\n",
    "lambda_end = x_beta / (2 * size * average_chosen)"
   ]
  },
  {
   "cell_type": "code",
   "execution_count": null,
   "metadata": {},
   "outputs": [],
   "source": [
    "print(\"Границы доверительного интервала для лямбда: \", lambda_start, \" \", lambda_end, \"\\nГамма: \", gamma)"
   ]
  },
  {
   "cell_type": "code",
   "execution_count": null,
   "metadata": {},
   "outputs": [],
   "source": [
    "hyp_table_exp = PrettyTable([\"Ji\", \"ni\", \"n'i\", \"ni-n'i\", \"(ni-n'i)^2\", \"((ni-n'i)^2)/n'i\"])\n",
    "chi_sample = 0\n",
    "for interval in exp_intervals:\n",
    "    n_i = size * (math.exp(-1 * est_lambda * interval[2][0]) - math.exp(-1 * est_lambda * interval[2][1]))\n",
    "    ni_sub = interval[1] - n_i\n",
    "    ni_sub_sqr = pow(interval[1] - n_i, 2)\n",
    "    control = ni_sub_sqr / n_i\n",
    "    chi_sample += control\n",
    "    hyp_table_exp.add_row([interval[2], interval[1], n_i, ni_sub, ni_sub_sqr, control])"
   ]
  },
  {
   "cell_type": "code",
   "execution_count": null,
   "metadata": {},
   "outputs": [],
   "source": [
    "display(HTML(hyp_table_exp.get_html_string()))"
   ]
  },
  {
   "cell_type": "code",
   "execution_count": null,
   "metadata": {},
   "outputs": [],
   "source": [
    "probability = 0.9"
   ]
  },
  {
   "cell_type": "code",
   "execution_count": null,
   "metadata": {},
   "outputs": [],
   "source": [
    "chi_critical = chi2.ppf(probability, number_intervals - 2)"
   ]
  },
  {
   "cell_type": "code",
   "execution_count": null,
   "metadata": {},
   "outputs": [],
   "source": [
    "print(\"Хи^2 кр: \", chi_critical, \"Хи^2 выб: \", chi_sample)\n",
    "if chi_critical > chi_sample:\n",
    "    print(\"Гипотеза принята на уровне значимости альфа:\", 1-probability)\n",
    "else:\n",
    "    print(\"Гипотеза отвержена\")"
   ]
  },
  {
   "cell_type": "markdown",
   "metadata": {},
   "source": [
    "Нормальное распределение"
   ]
  },
  {
   "cell_type": "code",
   "execution_count": null,
   "metadata": {},
   "outputs": [],
   "source": [
    "m = 5\n",
    "sigma = 2\n",
    "normal_selection = [math.sqrt(-2*math.log(uniform_selection[0]))*math.cos(2*math.pi*uniform_selection[0])]\n",
    "for element in range(1, size):\n",
    "    normal_selection.append(math.sqrt(-2*math.log(uniform_selection[element-1]))*math.cos(2*math.pi*uniform_selection[element])) \n",
    "for element in range(size):\n",
    "    normal_selection[element] = m + sigma*normal_selection[element]"
   ]
  },
  {
   "cell_type": "code",
   "execution_count": null,
   "metadata": {},
   "outputs": [],
   "source": [
    "plt.hist(normal_selection, 50)\n",
    "plt.show()"
   ]
  },
  {
   "cell_type": "code",
   "execution_count": null,
   "metadata": {},
   "outputs": [],
   "source": [
    "normal_selection.sort()\n",
    "norm_range = normal_selection[-1] - normal_selection[0]"
   ]
  },
  {
   "cell_type": "code",
   "execution_count": null,
   "metadata": {},
   "outputs": [],
   "source": [
    "print(\"Размах: \", norm_range)"
   ]
  },
  {
   "cell_type": "code",
   "execution_count": null,
   "metadata": {},
   "outputs": [],
   "source": [
    "number_intervals = 5"
   ]
  },
  {
   "cell_type": "code",
   "execution_count": null,
   "metadata": {},
   "outputs": [],
   "source": [
    "norm_delta = norm_range / number_intervals"
   ]
  },
  {
   "cell_type": "code",
   "execution_count": null,
   "metadata": {},
   "outputs": [],
   "source": [
    "print(\"Delta = \", norm_delta)"
   ]
  },
  {
   "cell_type": "code",
   "execution_count": null,
   "metadata": {},
   "outputs": [],
   "source": [
    "normIntervals = makeIntervals(normal_selection, normal_selection[0], norm_delta, number_intervals)\n",
    "norm_tuples = []\n",
    "norm_avg = []\n",
    "norm_count = []\n",
    "for interval in exp_intervals:\n",
    "    norm_avg.append(interval[0])\n",
    "    norm_count.append(interval[1])\n",
    "    norm_tuples.append(interval[2])"
   ]
  },
  {
   "cell_type": "code",
   "execution_count": null,
   "metadata": {},
   "outputs": [],
   "source": [
    "table = []\n",
    "table.append([exp_tuples, exp_avg, exp_count])\n",
    "display(HTML(tabulate.tabulate({\"Интервал\": exp_tuples, \"Количество элементов\":exp_count, \"Среднее значение в интервале\": exp_avg}, tablefmt='html', headers=\"keys\")))"
   ]
  },
  {
   "cell_type": "code",
   "execution_count": null,
   "metadata": {},
   "outputs": [],
   "source": [
    "local_estim_table_norm = PrettyTable([\"xi*\", \"ni\", \"ui\", \"ni*ui\", \"ni*ui^2\",\n",
    "                                 \"ni(ui + 1)^2\", \"ni*ui^3\", \"ni*ui^4\", \"ni*(ui+1)^4\"])\n",
    "false_zero = normal_selection[49]\n",
    "momentum_hash = {\"momentum_1\": [],\n",
    "                    \"momentum_2\": [],\n",
    "                    \"momentum_3\": [],\n",
    "                    \"momentum_4\": [], }\n",
    "for interval in normIntervals:\n",
    "    ui = (interval[0] - false_zero) / norm_delta\n",
    "    ni_ui = interval[1] * ui\n",
    "    ni_ui_sqr = interval[1] * ui * ui\n",
    "    control_1 = interval[1] * pow((ui + 1), 2)\n",
    "    ni_ui_cube = interval[1] * pow(ui, 3)\n",
    "    ni_ui_4 = interval[1] * pow(ui, 4)\n",
    "    control_2 = interval[1] * pow((ui + 1), 4)\n",
    "    momentum_hash[\"momentum_1\"].append(ni_ui)\n",
    "    momentum_hash[\"momentum_2\"].append(ni_ui_sqr)\n",
    "    momentum_hash[\"momentum_3\"].append(ni_ui_cube)\n",
    "    momentum_hash[\"momentum_4\"].append(ni_ui_4) \n",
    "    local_estim_table_norm.add_row([interval[0], interval[1], ui, ni_ui, ni_ui_sqr, control_1, ni_ui_cube, ni_ui_4, control_2])"
   ]
  },
  {
   "cell_type": "code",
   "execution_count": null,
   "metadata": {},
   "outputs": [],
   "source": [
    "display(HTML(local_estim_table_norm.get_html_string()))"
   ]
  },
  {
   "cell_type": "code",
   "execution_count": null,
   "metadata": {},
   "outputs": [],
   "source": [
    "moment_1 = (sum(momentum_hash[\"momentum_1\"])) / size\n",
    "moment_2 = (sum(momentum_hash[\"momentum_2\"])) / size\n",
    "moment_3 = (sum(momentum_hash[\"momentum_3\"])) / size\n",
    "moment_4 = (sum(momentum_hash[\"momentum_4\"])) / size"
   ]
  },
  {
   "cell_type": "code",
   "execution_count": null,
   "metadata": {},
   "outputs": [],
   "source": [
    "expected_value_estimation = norm_delta * moment_1 + false_zero\n",
    "expected_disp_estimation = (moment_2 - pow(moment_1, 2)) * pow(norm_delta, 2)\n",
    "expected_deviation = pow(expected_disp_estimation, 0.5)\n",
    "centMom_3 = (moment_3 - 3 * moment_1 * moment_2 + 2 * pow(moment_1, 3)) * pow(norm_delta, 3)\n",
    "centMom_4 = (moment_4 - 4 * moment_1 * moment_3 + pow(moment_1, 2) * 6 * moment_2 - 3 * pow(moment_1, 4)) * pow(\n",
    "    norm_delta, 4)\n",
    "\n",
    "asymmetry = centMom_3 / pow(expected_deviation, 3)\n",
    "excess = centMom_4 / pow(expected_deviation, 4) - 3"
   ]
  },
  {
   "cell_type": "code",
   "execution_count": null,
   "metadata": {},
   "outputs": [],
   "source": [
    "print(\"Оценка мат ожидания(среднее выборочное): \", expected_value_estimation, \"\\nВыборочная дисперсия: \",\n",
    "      expected_disp_estimation,\n",
    "      \"\\nОценка отклонения: \", expected_deviation, \"\\nАсимметрия: \", asymmetry, \"Эксцесс\", excess)\n"
   ]
  },
  {
   "cell_type": "code",
   "execution_count": null,
   "metadata": {},
   "outputs": [],
   "source": [
    "t_coef = 1.66"
   ]
  },
  {
   "cell_type": "code",
   "execution_count": null,
   "metadata": {},
   "outputs": [],
   "source": [
    "temp = 0  # temporary var for sum to get X of set (среднее выборочное)\n",
    "for x in normal_selection:\n",
    "    temp += pow((x - expected_value_estimation), 2)\n",
    "fixed_chosen_disp = temp / (size - 1)\n",
    "m_start = expected_value_estimation - (pow(fixed_chosen_disp / size, 0.5)) * t_coef\n",
    "m_end = expected_value_estimation + (pow(fixed_chosen_disp / size, 0.5)) * t_coef"
   ]
  },
  {
   "cell_type": "code",
   "execution_count": null,
   "metadata": {},
   "outputs": [],
   "source": [
    "alpha_chi_coef = 0.05\n",
    "x_alpha = chi2.ppf(alpha_chi_coef, size - 1)\n",
    "x_beta = chi2.ppf(1 - alpha_chi_coef, size - 1)\n",
    "deviation_start = pow((fixed_chosen_disp * (size - 1)) / x_beta, 0.5)\n",
    "deviation_end = pow((fixed_chosen_disp * (size - 1)) / x_alpha, 0.5)"
   ]
  },
  {
   "cell_type": "code",
   "execution_count": null,
   "metadata": {},
   "outputs": [],
   "source": [
    "print(\"Интервальная оценка для нормального m: \", m_start, m_end,\n",
    "      \"\\nИнтервальная оценка для sigma:\", deviation_start, deviation_end)"
   ]
  },
  {
   "cell_type": "code",
   "execution_count": null,
   "metadata": {},
   "outputs": [],
   "source": [
    "hyp_table_norm = PrettyTable([\"xi\", \"xi+1\", \"xi - x_ch\", \"xi+1 - x_ch\",\n",
    "                                   \"Zi = (xi-x_ch)/sigma\", \"Zi+1 = ((xi+1)-x_ch)/sigma\"])\n",
    "chosen_sigma = pow(expected_disp_estimation, 0.5)\n",
    "z_array = []\n",
    "for interval in normIntervals:\n",
    "    x_ch = expected_value_estimation\n",
    "    xi = interval[2][0]\n",
    "    xi_1 = interval[2][1]\n",
    "    xi_sub_xch = xi - x_ch\n",
    "    xi_1_sub_xch = xi_1 - x_ch\n",
    "    zi = xi_sub_xch / chosen_sigma\n",
    "    zi_1 = xi_1_sub_xch / chosen_sigma\n",
    "    z_array.append([(zi, zi_1), interval[1]])\n",
    "    hyp_table_norm.add_row([xi, xi_1, xi_sub_xch, xi_1_sub_xch, zi, zi_1])"
   ]
  },
  {
   "cell_type": "code",
   "execution_count": null,
   "metadata": {},
   "outputs": [],
   "source": [
    "display(HTML(hyp_table_norm.get_html_string()))"
   ]
  },
  {
   "cell_type": "code",
   "execution_count": null,
   "metadata": {},
   "outputs": [],
   "source": [
    "z_hyp_table_norm = PrettyTable([\"zi\", \"zi+1\", \"Fo(zi)\", \"Fo(zi+1)\", \"Pi = Fo(zi) - Fo(zi+1)\", \"nPi = ni'\"])\n",
    "chi_hyp_table_norm = PrettyTable([\"ni\", \"ni'\", \"(ni-ni')^2\", \"((ni-ni')^2)/ni'\"])\n",
    "x_norm = 0\n",
    "for i in z_array:\n",
    "    zi = i[0][0]\n",
    "    zi_1 = i[0][1]\n",
    "    fi = scipy.stats.norm.cdf(zi) - 0.5\n",
    "    fi_1 = scipy.stats.norm.cdf(zi_1) - 0.5\n",
    "    pi = abs(fi - fi_1)\n",
    "    n_i = size * pi\n",
    "    x_norm += (pow(i[1] - n_i, 2)) / n_i\n",
    "    z_hyp_table_norm.add_row([zi, zi_1, fi, fi_1, pi, n_i])\n",
    "    chi_hyp_table_norm.add_row([i[1], n_i, pow(i[1] - n_i, 2), (pow(i[1] - n_i, 2)) / n_i])"
   ]
  },
  {
   "cell_type": "code",
   "execution_count": null,
   "metadata": {},
   "outputs": [],
   "source": [
    "display(HTML(z_hyp_table_norm.get_html_string()))"
   ]
  },
  {
   "cell_type": "code",
   "execution_count": null,
   "metadata": {},
   "outputs": [],
   "source": [
    "display(HTML(chi_hyp_table_norm.get_html_string()))"
   ]
  },
  {
   "cell_type": "code",
   "execution_count": null,
   "metadata": {},
   "outputs": [],
   "source": [
    "probability = 0.9\n",
    "chi_critical = chi2.ppf(probability, number_intervals - 3)"
   ]
  },
  {
   "cell_type": "code",
   "execution_count": null,
   "metadata": {},
   "outputs": [],
   "source": [
    "print(\"Хи^2 кр: \", chi_critical, \"Хи^2 выб: \", x_norm)\n",
    "if x_norm < chi_critical:\n",
    "    print(\"Гипотеза принята на уровне значимости альфа: \", 1-probability)\n",
    "else:\n",
    "    print(\"Гипотеза отвержена\")"
   ]
  }
 ],
 "metadata": {
  "kernelspec": {
   "display_name": "Python 3",
   "language": "python",
   "name": "python3"
  },
  "language_info": {
   "codemirror_mode": {
    "name": "ipython",
    "version": 3
   },
   "file_extension": ".py",
   "mimetype": "text/x-python",
   "name": "python",
   "nbconvert_exporter": "python",
   "pygments_lexer": "ipython3",
   "version": "3.8.2"
  }
 },
 "nbformat": 4,
 "nbformat_minor": 4
}
